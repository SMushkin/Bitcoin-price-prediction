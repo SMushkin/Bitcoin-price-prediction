{
  "nbformat": 4,
  "nbformat_minor": 0,
  "metadata": {
    "colab": {
      "name": "Bitcoin price prediction",
      "provenance": [],
      "authorship_tag": "ABX9TyOd5023g8lrSNuuslPwMmrg",
      "include_colab_link": true
    },
    "kernelspec": {
      "name": "python3",
      "display_name": "Python 3"
    },
    "language_info": {
      "name": "python"
    }
  },
  "cells": [
    {
      "cell_type": "markdown",
      "metadata": {
        "id": "view-in-github",
        "colab_type": "text"
      },
      "source": [
        "<a href=\"https://colab.research.google.com/github/SMushkin/Bitcoin-price-prediction/blob/main/Bitcoin_price_prediction.ipynb\" target=\"_parent\"><img src=\"https://colab.research.google.com/assets/colab-badge.svg\" alt=\"Open In Colab\"/></a>"
      ]
    },
    {
      "cell_type": "code",
      "execution_count": null,
      "metadata": {
        "id": "Qvczam4xWljL"
      },
      "outputs": [],
      "source": [
        "import numpy as np\n",
        "import pandas as pd\n",
        "df = pd.read_csv(\"bitcoin.csv\")\n",
        "df.head()"
      ]
    },
    {
      "cell_type": "code",
      "source": [
        "predictionDays = 30\n",
        "# Create another column shifted 'n'  units up\n",
        "df['Prediction'] = df[['Price']].shift(-predictionDays)\n",
        "# show the first 5 rows\n",
        "df.head()"
      ],
      "metadata": {
        "id": "lglUYXCbW9O-"
      },
      "execution_count": null,
      "outputs": []
    },
    {
      "cell_type": "code",
      "source": [
        "df.tail()"
      ],
      "metadata": {
        "id": "QvBusi52XAyN"
      },
      "execution_count": null,
      "outputs": []
    },
    {
      "cell_type": "code",
      "source": [
        "# Create the independent dada set\n",
        "# Here we will convert the data frame into a numpy array and drp the prediction column\n",
        "x = np.array(df.drop(['Prediction'],1))\n",
        "# Remove the last 'n' rows where 'n' is the predictionDays\n",
        "x = x[:len(df)-predictionDays]\n",
        "print(x)"
      ],
      "metadata": {
        "id": "E6hYcXoaXBPt"
      },
      "execution_count": null,
      "outputs": []
    },
    {
      "cell_type": "code",
      "source": [
        "from sklearn.svm import SVR\n",
        "# Create and Train the Support Vector Machine (Regression) using radial basis function\n",
        "svr_rbf = SVR(kernel='rbf', C=1e3, gamma=0.00001)\n",
        "svr_rbf.fit(xtrain, ytrain)"
      ],
      "metadata": {
        "id": "ybKi9hzlXDrv"
      },
      "execution_count": null,
      "outputs": []
    },
    {
      "cell_type": "code",
      "source": [
        "#Output\n",
        "SVR(C=1000.0, cache_size=200, coef0=0.0, degree=3, epsilon=0.1, gamma=1e-05,\n",
        "    kernel='rbf', max_iter=-1, shrinking=True, tol=0.001, verbose=False)"
      ],
      "metadata": {
        "id": "DQlT3frIXIMH"
      },
      "execution_count": null,
      "outputs": []
    },
    {
      "cell_type": "code",
      "source": [
        "svr_rbf_confidence = svr_rbf.score(xtest,ytest)\n",
        "print('SVR_RBF accuracy :',svr_rbf_confidence)"
      ],
      "metadata": {
        "id": "Nk5lH69wXJt1"
      },
      "execution_count": null,
      "outputs": []
    },
    {
      "cell_type": "code",
      "source": [
        "# print the predicted values\n",
        "svm_prediction = svr_rbf.predict(xtest)\n",
        "print(svm_prediction)\n",
        "print()\n",
        "print(ytest)"
      ],
      "metadata": {
        "id": "Xsoxkdu8XLSf"
      },
      "execution_count": null,
      "outputs": []
    },
    {
      "cell_type": "code",
      "source": [
        "# Print the model predictions for the next 30 days\n",
        "svm_prediction = svr_rbf.predict(predictionDays_array)\n",
        "print(svm_prediction)\n",
        "print()\n",
        "#Print the actual price for bitcoin for last 30 days\n",
        "print(df.tail(predictionDays))"
      ],
      "metadata": {
        "id": "nMg3Bx6TXM0N"
      },
      "execution_count": null,
      "outputs": []
    },
    {
      "cell_type": "code",
      "source": [
        ""
      ],
      "metadata": {
        "id": "iC_OHCgoXOrP"
      },
      "execution_count": null,
      "outputs": []
    }
  ]
}